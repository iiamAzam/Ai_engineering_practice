{
 "cells": [
  {
   "cell_type": "code",
   "execution_count": 3,
   "id": "b1d8fc59-1183-4600-aefe-ed27158faaa9",
   "metadata": {},
   "outputs": [],
   "source": [
    "import numpy as np"
   ]
  },
  {
   "cell_type": "code",
   "execution_count": 2,
   "id": "a25f94d6-ed0d-47da-8ddc-b00ebf8bebf3",
   "metadata": {},
   "outputs": [
    {
     "name": "stdout",
     "output_type": "stream",
     "text": [
      "ok its working\n"
     ]
    }
   ],
   "source": [
    "print ('ok its working')\n"
   ]
  },
  {
   "cell_type": "code",
   "execution_count": 3,
   "id": "22f3ffe3-32a6-40a4-a1d4-b88e633ee110",
   "metadata": {},
   "outputs": [],
   "source": [
    "import numpy as np"
   ]
  },
  {
   "cell_type": "code",
   "execution_count": 4,
   "id": "460cc3a4-8a9f-4ab1-be1f-04def28155e2",
   "metadata": {},
   "outputs": [],
   "source": [
    "arr=np.array([1,2,3,4,5,6])"
   ]
  },
  {
   "cell_type": "code",
   "execution_count": 7,
   "id": "58c46357-2849-4cb3-9c80-601026b43ce3",
   "metadata": {},
   "outputs": [
    {
     "name": "stdout",
     "output_type": "stream",
     "text": [
      "[1 2 3 4 5 6]\n",
      "finally working\n"
     ]
    }
   ],
   "source": [
    "print(arr)\n",
    "print('finally working')"
   ]
  },
  {
   "cell_type": "code",
   "execution_count": 5,
   "id": "afe23c82-b4fc-4797-97ea-5abad11cc836",
   "metadata": {},
   "outputs": [
    {
     "name": "stdout",
     "output_type": "stream",
     "text": [
      "[0.5 1.  1.5 2.  2.5 3. ]\n"
     ]
    }
   ],
   "source": [
    "print(arr/2)"
   ]
  },
  {
   "cell_type": "code",
   "execution_count": 6,
   "id": "ad9c174d-0a30-4640-90fb-ef380cde471d",
   "metadata": {},
   "outputs": [
    {
     "name": "stdout",
     "output_type": "stream",
     "text": [
      "hello\n"
     ]
    }
   ],
   "source": [
    "print('hello')"
   ]
  },
  {
   "cell_type": "code",
   "execution_count": 7,
   "id": "33752e49-fcc0-40c8-a44b-1a840f08a3c1",
   "metadata": {},
   "outputs": [
    {
     "name": "stdout",
     "output_type": "stream",
     "text": [
      "[np.float64(0.5), np.float64(1.0), np.float64(1.5), np.float64(2.0), np.float64(2.5), np.float64(3.0)]\n"
     ]
    }
   ],
   "source": [
    "fval = [x/2 for x in arr]\n",
    "print(fval)"
   ]
  },
  {
   "cell_type": "code",
   "execution_count": 8,
   "id": "d90ff4dc-0705-4026-b958-0802b6510785",
   "metadata": {},
   "outputs": [
    {
     "data": {
      "text/plain": [
       "numpy.ndarray"
      ]
     },
     "execution_count": 8,
     "metadata": {},
     "output_type": "execute_result"
    }
   ],
   "source": [
    "type (arr)"
   ]
  },
  {
   "cell_type": "code",
   "execution_count": 9,
   "id": "fd5a5afe-252b-4ad7-b8c3-56e5af0bfc9b",
   "metadata": {},
   "outputs": [
    {
     "ename": "ModuleNotFoundError",
     "evalue": "No module named 'matplotlib'",
     "output_type": "error",
     "traceback": [
      "\u001b[1;31m---------------------------------------------------------------------------\u001b[0m",
      "\u001b[1;31mModuleNotFoundError\u001b[0m                       Traceback (most recent call last)",
      "Cell \u001b[1;32mIn[9], line 1\u001b[0m\n\u001b[1;32m----> 1\u001b[0m \u001b[38;5;28;01mimport\u001b[39;00m \u001b[38;5;21;01mmatplotlib\u001b[39;00m\u001b[38;5;21;01m.\u001b[39;00m\u001b[38;5;21;01mpyplot\u001b[39;00m \u001b[38;5;28;01mas\u001b[39;00m \u001b[38;5;21;01mplt\u001b[39;00m\n",
      "\u001b[1;31mModuleNotFoundError\u001b[0m: No module named 'matplotlib'"
     ]
    }
   ],
   "source": [
    "import matplotlib.pyplot as plt"
   ]
  },
  {
   "cell_type": "code",
   "execution_count": 15,
   "id": "9ee3aefa-0865-4f9a-b16f-1c73b779bd02",
   "metadata": {},
   "outputs": [
    {
     "name": "stdout",
     "output_type": "stream",
     "text": [
      "28\n"
     ]
    }
   ],
   "source": [
    "from sys import getsizeof as size\n",
    "a = np.array([24, 12, 57])\n",
    "print(size(size(a)))\n",
    "\n"
   ]
  },
  {
   "cell_type": "code",
   "execution_count": 17,
   "id": "98189ae1-b26b-4a9f-90f0-597ef89d6c8d",
   "metadata": {},
   "outputs": [
    {
     "name": "stdout",
     "output_type": "stream",
     "text": [
      "56\n",
      "112\n"
     ]
    }
   ],
   "source": [
    "c=[]\n",
    "print(size(c))\n",
    "r=np.array([1,2,3,4])\n",
    "print(size(r))"
   ]
  },
  {
   "cell_type": "code",
   "execution_count": 26,
   "id": "e33208fc-347c-415b-aab3-4b23ae7495a9",
   "metadata": {},
   "outputs": [
    {
     "name": "stdout",
     "output_type": "stream",
     "text": [
      "[1 4 7]\n"
     ]
    }
   ],
   "source": [
    "ok = np.arange(1,10,3,dtype=int)\n",
    "print(ok)"
   ]
  },
  {
   "cell_type": "code",
   "execution_count": 31,
   "id": "a224afc7-862a-4fb4-ae2c-a962faad14f0",
   "metadata": {},
   "outputs": [
    {
     "name": "stdout",
     "output_type": "stream",
     "text": [
      "[0.1 0.3 0.5 0.7 0.9 1.1 1.3 1.5 1.7 1.9 2.1 2.3 2.5 2.7 2.9 3.1 3.3 3.5\n",
      " 3.7 3.9 4.1 4.3 4.5 4.7 4.9 5.1 5.3 5.5 5.7 5.9 6.1 6.3 6.5 6.7 6.9 7.1\n",
      " 7.3 7.5 7.7 7.9 8.1 8.3 8.5 8.7 8.9 9.1 9.3 9.5 9.7 9.9]\n"
     ]
    }
   ],
   "source": [
    "ok = np.arange(0.1,10,0.2)\n",
    "print(ok)"
   ]
  },
  {
   "cell_type": "code",
   "execution_count": 35,
   "id": "c36d9a0e-8ab6-43e2-987c-0a4bba7f287e",
   "metadata": {},
   "outputs": [
    {
     "name": "stdout",
     "output_type": "stream",
     "text": [
      "[ 1.    3.25  5.5   7.75 10.  ]\n"
     ]
    }
   ],
   "source": [
    "lines=np.linspace(1,10,num=5) \n",
    "print(lines)"
   ]
  },
  {
   "cell_type": "markdown",
   "id": "1336f7d0-c1e7-47cd-be1a-fc105d1a79d5",
   "metadata": {},
   "source": [
    "# 2d array \n"
   ]
  },
  {
   "cell_type": "code",
   "execution_count": 50,
   "id": "898c4298-35e0-49e2-a711-c1ad8c990c0a",
   "metadata": {},
   "outputs": [
    {
     "name": "stdout",
     "output_type": "stream",
     "text": [
      "(2, 4)\n"
     ]
    }
   ],
   "source": [
    "twodim = np.array([[1,2,3,4],[8,9,0,2]])\n",
    "print (np.shape(twodim))"
   ]
  },
  {
   "cell_type": "code",
   "execution_count": 66,
   "id": "863fae59-a56f-45a3-80a8-c379786f983e",
   "metadata": {},
   "outputs": [
    {
     "name": "stdout",
     "output_type": "stream",
     "text": [
      "(1, 2, 2)\n"
     ]
    }
   ],
   "source": [
    "THRDARR= np.array([[[4,2],[5,5]]])\n",
    "print (THRDARR.shape)"
   ]
  },
  {
   "cell_type": "code",
   "execution_count": 70,
   "id": "a4352793-9773-4ce7-9524-d435ba5790fc",
   "metadata": {},
   "outputs": [
    {
     "name": "stdout",
     "output_type": "stream",
     "text": [
      "[[14 15]\n",
      " [24 25]]\n"
     ]
    }
   ],
   "source": [
    "A = np.array([\n",
    "[11, 12, 13, 14, 15],\n",
    "[21, 22, 23, 24, 25],\n",
    "[31, 32, 33, 34, 35],\n",
    "[41, 42, 43, 44, 45],\n",
    "[51, 52, 53, 54, 55]])\n",
    "print(A[:2,3:])"
   ]
  },
  {
   "cell_type": "markdown",
   "id": "cfc13978-b20d-4d31-bb2e-42802471b4e3",
   "metadata": {},
   "source": [
    "# EXERCISES"
   ]
  },
  {
   "cell_type": "markdown",
   "id": "bee0befd-4d40-41b9-9023-9431ca29c401",
   "metadata": {},
   "source": [
    "# 1) Create an arbitrary one dimensional array called \"v\"\n",
    "# 2) Create a new array which consists of the odd indices of previously created array \"v\".\n",
    "# 3) Create a new array in backwards ordering from v.\n",
    "# 4) What will be the output of the following code:\n",
    "# a = np.array([1, 2, 3, 4, 5])\n",
    "# b = a[1:4]\n",
    "# b[0] = 200\n",
    "# print(a[1])"
   ]
  },
  {
   "cell_type": "code",
   "execution_count": 71,
   "id": "7c779847-6b99-4eea-89aa-6f189bcae075",
   "metadata": {},
   "outputs": [],
   "source": [
    "v = np.array ([1,2,3,4,5,6,7,8,9,10])"
   ]
  },
  {
   "cell_type": "code",
   "execution_count": 74,
   "id": "611f504c-a2ea-474e-ab9e-82a00eafbd1c",
   "metadata": {},
   "outputs": [],
   "source": [
    "z= np.array(v[::2])"
   ]
  },
  {
   "cell_type": "code",
   "execution_count": 75,
   "id": "294a81a2-72b0-4881-8ed9-f55733128cb0",
   "metadata": {},
   "outputs": [
    {
     "name": "stdout",
     "output_type": "stream",
     "text": [
      "[1 3 5 7 9]\n"
     ]
    }
   ],
   "source": [
    "print (z)"
   ]
  },
  {
   "cell_type": "code",
   "execution_count": 77,
   "id": "539b8a1b-857a-4297-a5a5-d364eed279ba",
   "metadata": {},
   "outputs": [
    {
     "name": "stdout",
     "output_type": "stream",
     "text": [
      "[10  9  8  7  6  5  4  3  2  1]\n"
     ]
    }
   ],
   "source": [
    "a=np.array(v[::-1])\n",
    "print(a)"
   ]
  },
  {
   "cell_type": "code",
   "execution_count": 78,
   "id": "058bc330-a849-4b78-80af-cf799900a9eb",
   "metadata": {},
   "outputs": [
    {
     "name": "stdout",
     "output_type": "stream",
     "text": [
      "200\n"
     ]
    }
   ],
   "source": [
    "#4>\n",
    "arr1=np.array ([1,2,3,4,5])\n",
    "b=a[1:4]\n",
    "b[0]=200\n",
    "print(a[1])"
   ]
  },
  {
   "cell_type": "code",
   "execution_count": 83,
   "id": "a051dd70-acb3-4c2c-a816-dcf7d3113a66",
   "metadata": {},
   "outputs": [
    {
     "name": "stdout",
     "output_type": "stream",
     "text": [
      "[[[2 1]]\n",
      "\n",
      " [[4 3]]]\n",
      "[[[[4 3]]\n",
      "\n",
      "  [[2 1]]]]\n"
     ]
    }
   ],
   "source": [
    "m= np.array([[1,2],[3,4]])\n",
    "l= np.array ([m[:1,::-1],m[1:,::-1]])\n",
    "print(l)\n",
    "k=np.array([l[::-1]])\n",
    "print(k)\n",
    "j=np.array([m[]])"
   ]
  },
  {
   "cell_type": "markdown",
   "id": "c776348f-2794-434d-9c4a-fff80e938daf",
   "metadata": {},
   "source": [
    "# dtype\n"
   ]
  },
  {
   "cell_type": "code",
   "execution_count": 87,
   "id": "a79876bd-9aa8-4fc5-82c8-6ddcb07f262f",
   "metadata": {},
   "outputs": [],
   "source": [
    "dt = np.dtype([('density',np.int32)])"
   ]
  },
  {
   "cell_type": "code",
   "execution_count": 90,
   "id": "e4913906-d6ff-4098-b0b9-9af990dd61a7",
   "metadata": {},
   "outputs": [
    {
     "name": "stdout",
     "output_type": "stream",
     "text": [
      "array([(1,), (2,), (3,), (4,), (5,), (6,), (8,)],\n",
      "      dtype=[('density', '<i4')])\n"
     ]
    }
   ],
   "source": [
    "x=np.array([1,2,3,4,5,6,8],dtype=dt)\n",
    "print(repr(x))"
   ]
  },
  {
   "cell_type": "code",
   "execution_count": 91,
   "id": "63fd581b-0f80-4d4a-b352-90a08e7c2afc",
   "metadata": {},
   "outputs": [
    {
     "name": "stdout",
     "output_type": "stream",
     "text": [
      "[1 2 3 4 5 6 8]\n"
     ]
    }
   ],
   "source": [
    "print(x['density'])"
   ]
  },
  {
   "cell_type": "code",
   "execution_count": 98,
   "id": "3e4217b0-7fef-4a45-a079-96208e80d5b0",
   "metadata": {},
   "outputs": [],
   "source": [
    "dt = np.dtype([('country','S20'),('density','i4'),('area','i4'),('population','i4')])\n",
    "population_table=np.array([\n",
    "        (\n",
    "            'netherland',203,3245,1020405\n",
    "        ),\n",
    "       (\n",
    "            'india',204,3223,1020475\n",
    "        ),\n",
    "       (\n",
    "            'america',203,3245,1420405\n",
    "        ),\n",
    "       (\n",
    "            'westindies',203,3245,1026405\n",
    "       )\n",
    "],dtype=dt)"
   ]
  },
  {
   "cell_type": "code",
   "execution_count": 105,
   "id": "b7b2d346-e7b9-4394-9160-3350e80f4651",
   "metadata": {},
   "outputs": [
    {
     "name": "stdout",
     "output_type": "stream",
     "text": [
      "[b'netherland' b'india' b'america' b'westindies']\n",
      "[203 204 203 203]\n",
      "[3245 3223 3245 3245]\n",
      "[1020405 1020475 1420405 1026405]\n"
     ]
    }
   ],
   "source": [
    "print(population_table['country'])\n",
    "print(population_table['density'])\n",
    "print(population_table['area'])\n",
    "print (population_table['population'])\n",
    "\n"
   ]
  },
  {
   "cell_type": "code",
   "execution_count": 107,
   "id": "1ab9d58c-09c4-4661-aa9b-c41bb55d7b73",
   "metadata": {},
   "outputs": [],
   "source": [
    "ab = np.array([1,2,3,4,'asd'])"
   ]
  },
  {
   "cell_type": "code",
   "execution_count": 108,
   "id": "67c5c429-14dc-4bcd-9792-1bb1e4ee6b17",
   "metadata": {},
   "outputs": [
    {
     "name": "stdout",
     "output_type": "stream",
     "text": [
      "['1' '2' '3' '4' 'asd']\n"
     ]
    }
   ],
   "source": [
    "print(ab)"
   ]
  },
  {
   "cell_type": "code",
   "execution_count": 109,
   "id": "6a1fbb2b-2ac4-4f7a-b34b-99fd8c80b61d",
   "metadata": {},
   "outputs": [],
   "source": [
    "np.savetxt(\"population_table.csv\",\n",
    "population_table,\n",
    "fmt=\"%s;%d;%d;%d\",\n",
    "delimiter=\";\")\n"
   ]
  },
  {
   "cell_type": "code",
   "execution_count": 110,
   "id": "7ffe2824-0cba-4a0d-85b6-b1f304d02acc",
   "metadata": {},
   "outputs": [
    {
     "name": "stdout",
     "output_type": "stream",
     "text": [
      "[(b\"b'netherland'\", 203, 3245, 1020405) (b\"b'india'\", 204, 3223, 1020475)\n",
      " (b\"b'america'\", 203, 3245, 1420405)\n",
      " (b\"b'westindies'\", 203, 3245, 1026405)]\n"
     ]
    }
   ],
   "source": [
    "x = np.genfromtxt(\"population_table.csv\",\n",
    "dtype=dt,\n",
    "delimiter=\";\")\n",
    "print(x)"
   ]
  },
  {
   "cell_type": "markdown",
   "id": "d8458dcb-871d-4c6e-b7e2-5351e2f02925",
   "metadata": {},
   "source": [
    "# EXERCISES:\n",
    "# Before you go on, you may take time to do some exercises to deepen the understanding of the previously\n",
    "# learned stuff.\n",
    "# 1. Exercise:\n",
    "# Define a structured array with two columns. The first column contains the product ID, which can\n",
    "# be defined as an int32. The second column shall contain the price for the product. How can you\n",
    "# print out the column with the product IDs, the first row and the price for the third article of this\n",
    "# structured array?\n",
    "# 2. Exercise:\n",
    "# Figure out a data type definition for time records with entries for hours, minutes and seconds"
   ]
  },
  {
   "cell_type": "code",
   "execution_count": 118,
   "id": "ccea2f05-7d7f-45b6-9cfe-57b094c742d7",
   "metadata": {},
   "outputs": [
    {
     "name": "stdout",
     "output_type": "stream",
     "text": [
      "[1 2 3 4 5]\n",
      "[1200 2346 3245 4356 1234]\n"
     ]
    }
   ],
   "source": [
    "dt = np.dtype([('id',np.int32),('price',np.int32)])\n",
    "pric_table = np.array([\n",
    "        (1,1200),\n",
    "        (2,2346),\n",
    "        (3,3245),\n",
    "        (4,4356),\n",
    "        (5,1234)\n",
    "    \n",
    "],dtype=dt)\n",
    "print(pric_table['id'])\n",
    "print(pric_table['price'])"
   ]
  },
  {
   "cell_type": "code",
   "execution_count": 120,
   "id": "be1a5f30-3130-4e32-8a21-23a7dbba0f1f",
   "metadata": {},
   "outputs": [],
   "source": [
    "np.savetxt(\n",
    "    \"pric_table.csv\",\n",
    "    pric_table,\n",
    "    fmt='%d;%d;',\n",
    "    delimiter=\";\"\n",
    "    \n",
    ")"
   ]
  },
  {
   "cell_type": "code",
   "execution_count": 122,
   "id": "e70f38e7-772a-466b-ab43-4139c8a71930",
   "metadata": {},
   "outputs": [
    {
     "name": "stdout",
     "output_type": "stream",
     "text": [
      "[(1, 1200) (2, 2346) (3, 3245) (4, 4356) (5, 1234)]\n"
     ]
    }
   ],
   "source": [
    "x=np.genfromtxt(\"pric_table.csv\",\n",
    "dtype=dt,\n",
    "delimiter=\";\")\n",
    "print(x)"
   ]
  },
  {
   "cell_type": "code",
   "execution_count": null,
   "id": "7beb0cb2-60a2-4503-847b-fdc02412a02f",
   "metadata": {},
   "outputs": [],
   "source": []
  }
 ],
 "metadata": {
  "kernelspec": {
   "display_name": "Python 3 (ipykernel)",
   "language": "python",
   "name": "python3"
  },
  "language_info": {
   "codemirror_mode": {
    "name": "ipython",
    "version": 3
   },
   "file_extension": ".py",
   "mimetype": "text/x-python",
   "name": "python",
   "nbconvert_exporter": "python",
   "pygments_lexer": "ipython3",
   "version": "3.12.7"
  }
 },
 "nbformat": 4,
 "nbformat_minor": 5
}
